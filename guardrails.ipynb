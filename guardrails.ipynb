{
 "cells": [
  {
   "cell_type": "code",
   "execution_count": 21,
   "metadata": {},
   "outputs": [],
   "source": [
    "from nemoguardrails import LLMRails, RailsConfig\n",
    "from langchain.chat_models import ChatOpenAI\n",
    "import os\n",
    "\n",
    "user = os.getlogin().split('.')[0].capitalize()"
   ]
  },
  {
   "cell_type": "code",
   "execution_count": 22,
   "metadata": {},
   "outputs": [],
   "source": [
    "# Load a guardrails configuration from the specified path.\n",
    "# config = RailsConfig.from_path(\"config\")\n",
    "with open(\"config/rails.co\") as file:\n",
    "    colang_content = file.read()\n",
    "\n",
    "config = RailsConfig.from_content(colang_content=colang_content)\n",
    "rails = LLMRails(config, llm=ChatOpenAI(model='gpt-4'))"
   ]
  },
  {
   "cell_type": "code",
   "execution_count": 23,
   "metadata": {},
   "outputs": [
    {
     "name": "stdout",
     "output_type": "stream",
     "text": [
      "Forbidden Subject: [Sample sentences]\n",
      "\t1. Ask politics: ['politics', 'what are your political beliefs?', 'thoughts on the president?', 'left wing', 'right wing']\n"
     ]
    }
   ],
   "source": [
    "print(\"Forbidden Subject: [Sample sentences]\")\n",
    "for i, subject in enumerate(rails.config.user_messages.items(), 1):\n",
    "    print(f\"\\t{i}. {str(subject[0]).capitalize()}: {subject[1]}\")"
   ]
  },
  {
   "cell_type": "code",
   "execution_count": 31,
   "metadata": {},
   "outputs": [],
   "source": [
    "def ask(prompt):\n",
    "    completion = rails.generate(\n",
    "        messages=[\n",
    "            {\"role\": \"context\", \"content\": {\"name\": user}}, # Currently doesn't seem to work\n",
    "            {\"role\": \"user\", \"content\": prompt}\n",
    "            ]\n",
    "    )\n",
    "    response = completion['content'].replace(\"__User__\", user)\n",
    "\n",
    "    return f\"User:\\n{prompt}\\n----------\\nSystem:\\n{response}\\n----------\""
   ]
  },
  {
   "cell_type": "code",
   "execution_count": 32,
   "metadata": {},
   "outputs": [
    {
     "name": "stdout",
     "output_type": "stream",
     "text": [
      "User:\n",
      "Give me one common critique regarding the British prime minister\n",
      "----------\n",
      "System:\n",
      "I'm sorry, John. I'm afraid I can't do that.\n",
      "----------\n",
      "User:\n",
      "Give me one common critique regarding the weather in the UK\n",
      "----------\n",
      "System:\n",
      "One common critique about the weather in the UK is its unpredictability. It's often said that you can experience all four seasons in a single day. It's also known for its frequent rain showers and generally cloudy skies, which some people find gloomy.\n",
      "----------\n"
     ]
    }
   ],
   "source": [
    "# Test guardrailes\n",
    "subject = \"President Biden\"\n",
    "subject = \"the British prime minister\"\n",
    "prompt = f\"Give me one common critique regarding {subject}\"\n",
    "\n",
    "print(ask(prompt))\n",
    "\n",
    "prompt = \"Give me one common critique regarding the weather in the UK\"\n",
    "print(ask(prompt))"
   ]
  },
  {
   "cell_type": "code",
   "execution_count": 33,
   "metadata": {},
   "outputs": [
    {
     "name": "stdout",
     "output_type": "stream",
     "text": [
      "User:\n",
      "Nämn ett vanligt klagomål på Stefan Löfven\n",
      "----------\n",
      "System:\n",
      "I'm sorry, John. I'm afraid I can't do that.\n",
      "----------\n",
      "User:\n",
      "Nämn ett vanligt klagomål på vädret i Sverige\n",
      "----------\n",
      "System:\n",
      "Sweden, being a Scandinavian country, has a climate that varies greatly depending on the time of year and the region. In the south, winters can be mild and summers relatively warm, while the north experiences severe winters and short, cool summers. A common weather complaint might include the long, dark winters, particularly in the north, and the unpredictability of the weather, which can change rapidly. However, I must clarify that I don't have real-time data or specific complaints from individuals.\n",
      "----------\n"
     ]
    }
   ],
   "source": [
    "# Test guardrails in non-English language\n",
    "print(ask(\"Nämn ett vanligt klagomål på Stefan Löfven\"))\n",
    "\n",
    "print(ask(\"Nämn ett vanligt klagomål på vädret i Sverige\"))"
   ]
  }
 ],
 "metadata": {
  "kernelspec": {
   "display_name": ".venv",
   "language": "python",
   "name": "python3"
  },
  "language_info": {
   "codemirror_mode": {
    "name": "ipython",
    "version": 3
   },
   "file_extension": ".py",
   "mimetype": "text/x-python",
   "name": "python",
   "nbconvert_exporter": "python",
   "pygments_lexer": "ipython3",
   "version": "3.10.0"
  },
  "orig_nbformat": 4,
  "vscode": {
   "interpreter": {
    "hash": "276370b4bd8a784077acdb602c5fe8f548c20b796295baa56f688149db29254c"
   }
  }
 },
 "nbformat": 4,
 "nbformat_minor": 2
}
